{
 "cells": [
  {
   "cell_type": "code",
   "execution_count": 1,
   "id": "38e81568-596e-4132-aca6-bb92dc22ee61",
   "metadata": {},
   "outputs": [
    {
     "name": "stderr",
     "output_type": "stream",
     "text": [
      "Updating HTML index of packages in '.Library'\n",
      "\n",
      "Making 'packages.html' ...\n",
      " done\n",
      "\n",
      "Loading required package: DBI\n",
      "\n"
     ]
    }
   ],
   "source": [
    "library(readxl)\n",
    "library(haven)\n",
    "library(data.table)\n",
    "\n",
    "# ! sudo apt install -y libpq-dev\n",
    "install.packages(c(\"RPostgreSQL\", \"rjson\"))\n",
    "library(RPostgreSQL)\n",
    "library(rjson)"
   ]
  },
  {
   "cell_type": "code",
   "execution_count": 2,
   "id": "608b3fa4-72a0-4350-88ce-bf47f5d5d295",
   "metadata": {},
   "outputs": [],
   "source": [
    "path_conversion_table <- \"../data/Maastricht_Study_Mapping_20211105.xlsx\"\n",
    "path_spss <- \"../data/AV405v3_Johan_van_Soest_20211022.sav\"\n",
    "path_spss_drug <- \"../data/AV405_Medication_Johan_van_Soest_20211102.sav\""
   ]
  },
  {
   "cell_type": "markdown",
   "id": "41202fc6-f11d-48f7-8a9b-758ef51f30c7",
   "metadata": {},
   "source": [
    "# Read data\n",
    "Read the excel sheet containing the mapping (`path_conversion_table`) and the actual spss sheet containing participants (`path_spss`)."
   ]
  },
  {
   "cell_type": "code",
   "execution_count": 3,
   "id": "79850732-1062-4f92-9b86-43416f1cb6c1",
   "metadata": {},
   "outputs": [],
   "source": [
    "# Read data ---------------------------------------------------------------\n",
    "conversion_table <- read_excel(path_conversion_table)\n",
    "\n",
    "# drop records that will not be mapped to tables\n",
    "conversion_table <- conversion_table[which(conversion_table$Mapped_Table != \"N.A.\"), ]\n",
    "\n",
    "spss <- read_sav(path_spss)"
   ]
  },
  {
   "cell_type": "markdown",
   "id": "02b98f43-178f-43b0-8788-b67369a13059",
   "metadata": {},
   "source": [
    "For every column explained in the conversion excel sheet, add a code column"
   ]
  },
  {
   "cell_type": "code",
   "execution_count": 4,
   "id": "98e0ea07-20c8-4083-93b0-c13786e552d8",
   "metadata": {},
   "outputs": [
    {
     "name": "stderr",
     "output_type": "stream",
     "text": [
      "Warning message in melt.data.table(data.table(spss), id.vars = c(\"Deelnemer_nr\", :\n",
      "“'measure.vars' [GebYEAR, SEX, bmi, Height, ...] are not all of the same type. By order of hierarchy, the molten data value column will be of type 'character'. All measure variables not of type 'character' will be coerced too. Check DETAILS in ?melt.data.table for more on coercion.”\n"
     ]
    }
   ],
   "source": [
    "# Convert columns into rows (warning: all values are set to character type)\n",
    "mySet <- data.frame(melt(data.table(spss),\n",
    "                         id.vars = c(\"Deelnemer_nr\", \"VISIT1_DATE\"),\n",
    "                         na.rm = TRUE))\n",
    "\n",
    "# merge data file with conversion table\n",
    "# convert both tables to lower case before merge\n",
    "mySet$variable <- tolower(mySet$variable)\n",
    "conversion_table$sourceCode <- tolower(conversion_table$sourceCode)\n",
    "\n",
    "mySet <- merge(mySet, conversion_table, by.x = \"variable\", by.y = \"sourceCode\", all.x = TRUE, all.y = FALSE)\n",
    "\n",
    "# keep records with missing sourceValue or where sourceValue == value\n",
    "mySet <- subset(mySet, (is.na(sourceValue) | sourceValue == value))\n",
    "\n",
    "# sort mySet on Deelnemer_nr, variable and Mapped_Column\n",
    "mySet <- mySet[\n",
    "  with(mySet, order(Deelnemer_nr, variable, Mapped_Column)),\n",
    "]"
   ]
  },
  {
   "cell_type": "markdown",
   "id": "04f5198d-3f30-43f4-b24a-5cb2d5b5db72",
   "metadata": {},
   "source": [
    "Get variable names per table, and add them to new variables (using the prefix 'vars_').\n",
    "Afterwards, create empty Data.Frame objects to mimic the OMOP database structure."
   ]
  },
  {
   "cell_type": "code",
   "execution_count": 5,
   "id": "9ffb5aad-5af3-4ac9-9679-53d391450c15",
   "metadata": {},
   "outputs": [],
   "source": [
    "# Determinie mapped variables per table -----------------------------------\n",
    "# get table names\n",
    "table_names <- unique(conversion_table$Mapped_Table)\n",
    "\n",
    "# get variable names per table\n",
    "for (i in 1:length(table_names)) {\n",
    "  temp_table_name <- paste(\"vars\", table_names[i], sep = \"_\")\n",
    "  assign(temp_table_name, unlist(unique(subset(conversion_table, Mapped_Table == table_names[i])[\"sourceCode\"])))\n",
    "}\n",
    "\n",
    "# map subject data to OMOP tables\n",
    "\n",
    "# create empty data.frames to fill\n",
    "table_measurement <- data.frame(matrix(ncol = 7, nrow = 0))\n",
    "colnames(table_measurement) <- c(\"person_id\", \"measurement_concept_id\", \"measurement_date\", \"measurement_type_concept_id\", \"value_as_number\", \"unit_concept_id\", \"measurement\")\n",
    "\n",
    "table_condition <- data.frame(matrix(ncol = 5, nrow = 0))\n",
    "colnames(table_condition) <- c(\"person_id\", \"condition_concept_id\", \"condition_start_date\", \"condition_type_concept_id\", \"condition\")\n",
    "\n",
    "table_person <- data.frame(matrix(ncol = 5, nrow = 0))\n",
    "colnames(table_person) <- c(\"person_id\", \"gender_concept_id\", \"year_of_birth\", \"race_concept_id\", \"ethnicity_concept_id\")\n",
    "\n",
    "table_observation <- data.frame(matrix(ncol = 8, nrow = 0))\n",
    "colnames(table_observation) <- c(\"person_id\", \"observation_concept_id\", \"observation_date\", \"measurement_type_concept_id\", \"value_as_number\", \"value_as_concept_id\", \"observation\", \"value\")"
   ]
  },
  {
   "cell_type": "markdown",
   "id": "634b2de0-ea49-4a83-a9a7-53907d6ec51c",
   "metadata": {},
   "source": [
    "# Fill person table\n",
    "Loop over all unique person IDs, and create a unique row for every patient. Ethnicit and race are fixed variables"
   ]
  },
  {
   "cell_type": "code",
   "execution_count": 6,
   "id": "e71f3ac7-5643-4633-a0f7-faa622784a16",
   "metadata": {},
   "outputs": [],
   "source": [
    "for (i in unique(mySet$Deelnemer_nr)) {\n",
    "    patientSet = mySet[mySet$Deelnemer_nr==i,]\n",
    "\n",
    "    temp_person <- data.frame(person_id = i,\n",
    "                          gender_concept_id = patientSet$targetConceptid[patientSet$variable==\"sex\"],\n",
    "                          year_of_birth = patientSet$value[patientSet$variable==\"gebyear\"],\n",
    "                          race_concept_id = 0,\n",
    "                          ethnicity_concept_id = 38003564)\n",
    "\n",
    "    table_person <- rbind(table_person, temp_person)\n",
    "}\n",
    "# table_person"
   ]
  },
  {
   "cell_type": "markdown",
   "id": "4f4cd36f-4457-46b7-8cf0-37f4ab8f26c1",
   "metadata": {},
   "source": [
    "# Fill measurement table\n",
    "Loop over all rows in the dataset, and determine whether this is a variable for the `measurement`, `condition_occurance` or `observation` table.\n",
    "If it is the case, add the measurement/condition/observation accordingly."
   ]
  },
  {
   "cell_type": "code",
   "execution_count": 7,
   "id": "d86594bb-cf4c-412a-87f5-40c41c5c6fd5",
   "metadata": {},
   "outputs": [],
   "source": [
    "# fill empty data.frames\n",
    "for (i in 1:nrow(mySet)) {\n",
    "  \n",
    "  # Measurement table\n",
    "  if (mySet[i, \"variable\"] %in% vars_Measurement) {\n",
    "    temp_measurement <- data.frame(person_id = mySet[i, \"Deelnemer_nr\"],\n",
    "                                   measurement_concept_id = mySet[i, \"targetConceptid\"],\n",
    "                                   measurement_date = mySet[i, \"VISIT1_DATE\"],\n",
    "                                   measurement_type_concept_id = 32809,\n",
    "                                   value_as_number = mySet[i, \"value\"],\n",
    "                                   unit_concept_id = mySet[i, \"valueConceptid\"],\n",
    "                                   measurement = mySet[i, \"variable\"])\n",
    "    \n",
    "    table_measurement <- rbind(table_measurement, temp_measurement)\n",
    "  }\n",
    "  \n",
    "  \n",
    "  # Condition occurance table\n",
    "  if (mySet[i, \"variable\"] %in% vars_Condition_occurance) {\n",
    "    \n",
    "    temp_condition <- data.frame(person_id = mySet[i, \"Deelnemer_nr\"],\n",
    "                                 condition_concept_id = mySet[i, \"targetConceptid\"],\n",
    "                                 condition_start_date = mySet[i, \"VISIT1_DATE\"],\n",
    "                                 condition_type_concept_id = 32809,\n",
    "                                 condition = mySet[i, \"variable\"])\n",
    "    \n",
    "    table_condition <- rbind(table_condition, temp_condition)\n",
    "  }\n",
    "  \n",
    "  \n",
    "  # Observation table\n",
    "  if (mySet[i, \"variable\"] != \"gebyear\") {\n",
    "  if (mySet[i, \"Mapped_Table\"] == \"Observation\") {\n",
    "\n",
    "    temp_observation <- data.frame(person_id = NA,\n",
    "                                   observation_concept_id = NA,\n",
    "                                   observation_date = NA,\n",
    "                                   measurement_type_concept_id = 32809,\n",
    "                                   value_as_number = NA,\n",
    "                                   value_as_concept_id = NA,\n",
    "                                   observation = NA,\n",
    "                                   value = NA)\n",
    "\n",
    "    if (mySet[i, \"Mapped_Column\"] == \"observation_concept_id\") {\n",
    "\n",
    "      temp_observation$person_id <- mySet[i, \"Deelnemer_nr\"]\n",
    "      temp_observation$observation_concept_id <- mySet[i, \"targetConceptid\"]\n",
    "      temp_observation$observation_date <- mySet[i, \"VISIT1_DATE\"]\n",
    "      temp_observation$observation <- mySet[i, \"variable\"]\n",
    "      temp_observation$value_as_number <- mySet[i, \"value\"]\n",
    "      \n",
    "      if (mySet[i+1, \"Mapped_Column\"] == \"value_as_concept_id\" & mySet[i, \"Deelnemer_nr\"] == mySet[i+1, \"Deelnemer_nr\"]) {\n",
    "        \n",
    "        temp_observation$value_as_concept_id <- mySet[i+1, \"targetConceptid\"]\n",
    "        temp_observation$value <- mySet[i+1, \"sourceValueLabel\"]\n",
    "        \n",
    "      } else if (mySet[i+1, \"Mapped_Column\"] != \"value_as_concept_id\" | mySet[i, \"Deelnemer_nr\"] != mySet[i+1, \"Deelnemer_nr\"]) {\n",
    "        \n",
    "        temp_observation$value <- mySet[i, \"sourceValueLabel\"]\n",
    "        \n",
    "      }\n",
    "\n",
    "    \n",
    "    table_observation <- rbind(table_observation, temp_observation)\n",
    "\n",
    "  }}\n",
    "  }\n",
    "}\n",
    "\n",
    "table_measurement$person_id <- suppressWarnings(as.numeric(table_measurement$person_id))\n",
    "table_measurement$measurement_concept_id <- suppressWarnings(as.numeric(table_measurement$measurement_concept_id))\n",
    "table_measurement$value_as_number <- suppressWarnings(as.numeric(table_measurement$value_as_number))\n",
    "table_measurement$unit_concept_id <- suppressWarnings(as.numeric(table_measurement$unit_concept_id))"
   ]
  },
  {
   "cell_type": "markdown",
   "id": "56d9bd38-752a-4ecf-8434-c6975602d3b5",
   "metadata": {},
   "source": [
    "# Fill drug exposure table\n",
    "Drug exposure is treated as a different table. Hence, this is loaded separately."
   ]
  },
  {
   "cell_type": "code",
   "execution_count": 8,
   "id": "f6540ee9-fb6b-47a7-b628-2c8ced2b903c",
   "metadata": {},
   "outputs": [],
   "source": [
    "# Drug exposure --------------------------------------------------------------\n",
    "\n",
    "# Read data ---------------------------------------------------------------\n",
    "conversion_table_med <- read_excel(path_conversion_table, sheet = \"Drug_mapping\")\n",
    "spss_drug <- read_sav(path_spss_drug)\n",
    "\n",
    "\n",
    "# merge data file with conversion table\n",
    "drugSet <- merge(spss_drug, conversion_table_med, by = \"CONCEPT_CODE\", all.x = TRUE, all.y = FALSE)\n",
    "\n",
    "\n",
    "# sort drugSet on Deelnemer_nr, variable and Mapped_Column\n",
    "drugSet <- drugSet[\n",
    "  with(drugSet, order(Deelnemer_nr, CONCEPT_ID_1)),\n",
    "]\n",
    "\n",
    "# map subject data to OMOP tables\n",
    "\n",
    "# create empty data.frames to fill\n",
    "table_drug_exposure <- data.frame(matrix(ncol = 6, nrow = 0))\n",
    "colnames(table_drug_exposure) <- c(\"person_id\", \"drug_concept_id\", \"drug_exposure_start_date\", \"drug_type_concept_id\", \"drug_source_value\", \"drug_source_concept_id\")\n",
    "\n",
    "# fill empty data.frames\n",
    "for (i in 1:nrow(drugSet)) {\n",
    "  \n",
    "  temp_drug_exposure <- data.frame(person_id = NA,\n",
    "                                drug_concept_id = NA,\n",
    "                                drug_exposure_start_date = NA,\n",
    "                                drug_type_concept_id = 32809,\n",
    "                                drug_source_value = NA,\n",
    "                                drug_source_concept_id = NA)\n",
    "  \n",
    "  temp_drug_exposure$person_id <- drugSet[i, \"Deelnemer_nr\"]\n",
    "  temp_drug_exposure$drug_concept_id <- drugSet[i, \"CONCEPT_ID_1\"]\n",
    "  temp_drug_exposure$drug_exposure_start_date <- 0\n",
    "  temp_drug_exposure$drug_type_concept_id <- 32865\n",
    "  temp_drug_exposure$drug_source_value <- drugSet[i, \"CONCEPT_CODE\"]\n",
    "  temp_drug_exposure$drug_source_concept_id <- drugSet[i, \"CONCEPT_ID\"]\n",
    "\n",
    "  table_drug_exposure <- rbind(table_drug_exposure, temp_drug_exposure)\n",
    "}"
   ]
  },
  {
   "cell_type": "markdown",
   "id": "673f5d49-0be9-473c-be3c-884fca13b622",
   "metadata": {},
   "source": [
    "# Connect to database & insert data\n",
    "the configuration to reach the database is available in `config.json`."
   ]
  },
  {
   "cell_type": "code",
   "execution_count": 9,
   "id": "fcadd5f1-c31b-4230-a4bf-71da11d09ddb",
   "metadata": {},
   "outputs": [],
   "source": [
    "# lezen van configuratie file (met usernames/passwords e.d.)\n",
    "config <- fromJSON(file = \"config.json\")\n",
    "\n",
    "# Hier wordt de daadwerkelijke database verbinding gemaakt\n",
    "connection = dbConnect(dbDriver(config$driver),\n",
    "                       host = config$host,\n",
    "                       port = config$port,\n",
    "                       user = config$username,\n",
    "                       password = config$password,\n",
    "                       dbname = config$databaseName)"
   ]
  },
  {
   "cell_type": "markdown",
   "id": "c4645040-4ee9-4211-a7d0-8636ff1c1fa6",
   "metadata": {},
   "source": [
    "## Clear records from database"
   ]
  },
  {
   "cell_type": "code",
   "execution_count": 10,
   "id": "80a12d6e-8a91-4628-9b45-886630898e66",
   "metadata": {},
   "outputs": [],
   "source": [
    "# dbGetQuery(connection,\"SELECT table_schema, table_name FROM information_schema.tables\")\n",
    "# dbSendQuery(connection, \"TRUNCATE TABLE person CASCADE\")\n",
    "source(\"00_load_custom_sql_functions.r\")"
   ]
  },
  {
   "cell_type": "code",
   "execution_count": 11,
   "id": "95f45346-2245-415a-abdc-5567e2ffdafe",
   "metadata": {},
   "outputs": [
    {
     "name": "stdout",
     "output_type": "stream",
     "text": [
      "[1] \"Starting to clear (truncate) database tables\"\n",
      "[1] \"TRUNCATE TABLE person CASCADE\"\n",
      "[1] \"TRUNCATE TABLE measurement CASCADE\"\n",
      "[1] \"TRUNCATE TABLE condition_occurrence CASCADE\"\n"
     ]
    }
   ],
   "source": [
    "print(\"Starting to clear (truncate) database tables\")\n",
    "\n",
    "tableList <- c(\"person\", \"measurement\", \"condition_occurrence\")\n",
    "\n",
    "status <- lapply(tableList, function(tableName) {\n",
    "  query <- paste0(\"TRUNCATE TABLE \", tableName, \" CASCADE\")\n",
    "  print(query)\n",
    "  dbSendQuery(connection, query)\n",
    "})\n",
    "\n",
    "rm(tableList)"
   ]
  },
  {
   "cell_type": "markdown",
   "id": "e9fa9bc8-4608-4567-b809-fab0deedbb03",
   "metadata": {},
   "source": [
    "## Insert tables\n",
    "the lines below insert specific tables. First, it will insert the \"person\" table, afterwards it will insert the \"measurement\" table after clearing incomplete rows."
   ]
  },
  {
   "cell_type": "code",
   "execution_count": 12,
   "id": "3dee153f-70f1-451d-aefc-1b2dbd7cfc8a",
   "metadata": {},
   "outputs": [],
   "source": [
    "insertDbTable(connection, \"person\", table_person)\n",
    "\n",
    "table_measurement <- table_measurement[,!(colnames(table_measurement) %in% c(\"measurement\"))]\n",
    "table_measurement <- table_measurement[!is.na(table_measurement$measurement_concept_id),]\n",
    "table_measurement$measurement_id = c(1:nrow(table_measurement))\n",
    "insertDbTable(connection, \"measurement\", table_measurement)"
   ]
  },
  {
   "cell_type": "code",
   "execution_count": 17,
   "id": "017e0873-92b0-46b5-88a3-a0c959e2e661",
   "metadata": {},
   "outputs": [],
   "source": [
    "table_condition$condition_occurrence_id <- c(1:nrow(table_condition))\n",
    "insertDbTable(connection, \"condition_occurrence\", subset(table_condition, select = -condition))"
   ]
  }
 ],
 "metadata": {
  "kernelspec": {
   "display_name": "R",
   "language": "R",
   "name": "ir"
  },
  "language_info": {
   "codemirror_mode": "r",
   "file_extension": ".r",
   "mimetype": "text/x-r-source",
   "name": "R",
   "pygments_lexer": "r",
   "version": "4.3.1"
  }
 },
 "nbformat": 4,
 "nbformat_minor": 5
}
